{
 "cells": [
  {
   "cell_type": "markdown",
   "metadata": {},
   "source": [
    "# Apartamentos em São Paulo\n",
    "\n",
    "![](https://blog.appmeuimovel.com/wp-content/uploads/2017/11/apartamento-ate-200-mil-sp-1280x720.jpg)"
   ]
  },
  {
   "cell_type": "markdown",
   "metadata": {},
   "source": [
    "## OverView\n",
    "\n",
    "O estado de São Paulo e, principalmente, sua capital possuem grande destaque no cenário econômico do Brasil, com uma grande presença de indústrias e uma enorme diversidade em atividades produtivas. Muitas pessoas tem o desejo de se mudar para a cidade, porém muitos desanimam quando veem o custo de vida elevado da capital, principalmente em questão de moradia. Pensando nisso resolvi fazer uma análise sobre os apartamentos em São Paulo, afim de entender melhor como é o mercado imobiliário em São Paulo. \n",
    "Os dados que vou usar são reais e foram retirados de um site de venda e aluguel de apartamentos.\n"
   ]
  },
  {
   "cell_type": "markdown",
   "metadata": {},
   "source": [
    "## Bairros \n",
    "\n",
    "Ao todo são 680 bairros no dataset que irei usar para análise, o que irá dificultar mas já era algo esperado.\n",
    "Portanto, para facilitar a comparação, irei usar 25 bairros em cada gráfico.\n",
    "\n",
    "![](https://i.ibb.co/N2SQ2KS/apts-bairro.png)\n",
    "\n",
    "### Principal\n",
    "\n",
    "O bairro Santana possui mais de 700 ofertas de apartamento, sendo o principal bairro da nossa análise.\n",
    "Para entender como estão distribuidos, vamos usar o bom e velho boxplot.\n",
    "\n",
    "![](https://i.ibb.co/xS5Gybm/box-santana.png)"
   ]
  },
  {
   "cell_type": "markdown",
   "metadata": {},
   "source": [
    "## Preços\n",
    "Como em todas as cidades o preço varia bastante, temos desde apartamentos bem humildes à condomínios luxuosos.\n",
    "Vamos dar uma olhada nos bairros com os menores e maiores preços, e nas médias e medianas."
   ]
  },
  {
   "cell_type": "markdown",
   "metadata": {},
   "source": [
    "### Mínimo\n",
    "\n",
    "\n",
    "![](https://i.ibb.co/QvrRP19/pre-o-min.png)"
   ]
  },
  {
   "cell_type": "markdown",
   "metadata": {},
   "source": [
    "### Média\n",
    "\n",
    "\n",
    "![](https://i.ibb.co/fYLXFd2/pre-o-medio.png)"
   ]
  },
  {
   "cell_type": "markdown",
   "metadata": {},
   "source": [
    "### Mediana\n",
    "\n",
    "\n",
    "![](https://i.ibb.co/SKGtYjR/pre-o-mediana.png)"
   ]
  },
  {
   "cell_type": "markdown",
   "metadata": {},
   "source": [
    "### Máximo\n",
    "\n",
    "\n",
    "![](https://i.ibb.co/bbkvDHV/pre-o-maximo.png)"
   ]
  },
  {
   "cell_type": "markdown",
   "metadata": {},
   "source": [
    "### Correlação \n",
    "\n",
    "![](https://i.ibb.co/JqZZGzp/corr.png)"
   ]
  },
  {
   "cell_type": "markdown",
   "metadata": {},
   "source": [
    "### Conclusão\n",
    "Podemos perceber que alguns bairros se destacam por possuirem preços muito atrativos e outros por serem muito caros, apesar de existirem 12 bairros com apartamentos por um preço inferior a 1000 Reais, a grande maioria fica acima dos 1500 nos principais bairros. Pesquisando um pouco mais a fundo, é possivel perceber que os apartamentos no centro são extremamente complicados, muitos deles são bem pequenos mas possuem um preço muito elevado, os apartamentos mais afastados são naturalmente bem mais baratos. Se mudar é algo bem complexo que deve ser muito bem planejado, principalmente se for em São Paulo."
   ]
  },
  {
   "cell_type": "code",
   "execution_count": null,
   "metadata": {},
   "outputs": [],
   "source": []
  }
 ],
 "metadata": {
  "kernelspec": {
   "display_name": "Python 3",
   "language": "python",
   "name": "python3"
  },
  "language_info": {
   "codemirror_mode": {
    "name": "ipython",
    "version": 3
   },
   "file_extension": ".py",
   "mimetype": "text/x-python",
   "name": "python",
   "nbconvert_exporter": "python",
   "pygments_lexer": "ipython3",
   "version": "3.7.1"
  }
 },
 "nbformat": 4,
 "nbformat_minor": 4
}
